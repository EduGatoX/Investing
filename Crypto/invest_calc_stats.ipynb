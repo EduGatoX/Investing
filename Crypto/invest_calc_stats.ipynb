{
 "cells": [
  {
   "cell_type": "markdown",
   "metadata": {},
   "source": [
    "# Imports\n"
   ]
  },
  {
   "cell_type": "code",
   "execution_count": 1,
   "metadata": {},
   "outputs": [
    {
     "data": {
      "text/html": [
       "        <script type=\"text/javascript\">\n",
       "        window.PlotlyConfig = {MathJaxConfig: 'local'};\n",
       "        if (window.MathJax) {MathJax.Hub.Config({SVG: {font: \"STIX-Web\"}});}\n",
       "        if (typeof require !== 'undefined') {\n",
       "        require.undef(\"plotly\");\n",
       "        requirejs.config({\n",
       "            paths: {\n",
       "                'plotly': ['https://cdn.plot.ly/plotly-2.9.0.min']\n",
       "            }\n",
       "        });\n",
       "        require(['plotly'], function(Plotly) {\n",
       "            window._Plotly = Plotly;\n",
       "        });\n",
       "        }\n",
       "        </script>\n",
       "        "
      ]
     },
     "metadata": {},
     "output_type": "display_data"
    },
    {
     "data": {
      "text/html": [
       "        <script type=\"text/javascript\">\n",
       "        window.PlotlyConfig = {MathJaxConfig: 'local'};\n",
       "        if (window.MathJax) {MathJax.Hub.Config({SVG: {font: \"STIX-Web\"}});}\n",
       "        if (typeof require !== 'undefined') {\n",
       "        require.undef(\"plotly\");\n",
       "        requirejs.config({\n",
       "            paths: {\n",
       "                'plotly': ['https://cdn.plot.ly/plotly-2.9.0.min']\n",
       "            }\n",
       "        });\n",
       "        require(['plotly'], function(Plotly) {\n",
       "            window._Plotly = Plotly;\n",
       "        });\n",
       "        }\n",
       "        </script>\n",
       "        "
      ]
     },
     "metadata": {},
     "output_type": "display_data"
    }
   ],
   "source": [
    "# Provides ways to work with large multidimensional arrays\n",
    "import numpy as np\n",
    "\n",
    "# Allows for further data manipulation and analysis\n",
    "import pandas as pd\n",
    "import matplotlib.pyplot as plt  # Plotting\n",
    "import matplotlib.dates as mdates  # Styling dates\n",
    "\n",
    "import datetime as dt\n",
    "\n",
    "import time\n",
    "\n",
    "import yfinance as yf\n",
    "\n",
    "# Used for file handling like deleting files\n",
    "# and get data from a directory\n",
    "import os\n",
    "from os import listdir\n",
    "from os.path import isfile, join\n",
    "\n",
    "import cufflinks as cf\n",
    "import plotly.express as px\n",
    "import plotly.graph_objects as go\n",
    "\n",
    "# Make plotly work in your Jupyter Notebook\n",
    "from plotly.offline import download_plotlyjs, init_notebook_mode, plot, iplot\n",
    "\n",
    "init_notebook_mode(connected=True)\n",
    "# Use plotly locally\n",
    "cf.go_offline()\n",
    "\n",
    "from plotly.subplots import make_subplots\n",
    "\n",
    "import warnings\n",
    "\n",
    "warnings.simplefilter(\"ignore\")\n"
   ]
  },
  {
   "cell_type": "markdown",
   "metadata": {},
   "source": [
    "# Constants\n"
   ]
  },
  {
   "cell_type": "code",
   "execution_count": 2,
   "metadata": {},
   "outputs": [],
   "source": [
    "PATH = \"C:\\\\Users\\\\Eduardo Nuñez\\\\OneDrive\\\\Programming\\\\Python\\\\Derek Banas\\\\Investing\\\\Crypto\\\\Crypto Data\\\\\"\n",
    "\n",
    "# Start end date defaults\n",
    "S_DATE = \"2017-02-01\"\n",
    "E_DATE = \"2022-12-06\"\n",
    "S_DATE_DT = pd.to_datetime(S_DATE)\n",
    "E_DATE_DT = pd.to_datetime(E_DATE)\n"
   ]
  },
  {
   "cell_type": "markdown",
   "metadata": {},
   "source": [
    "# Get Dataframe from CSV\n"
   ]
  },
  {
   "cell_type": "code",
   "execution_count": 3,
   "metadata": {},
   "outputs": [],
   "source": [
    "# A dataframe is a pandas type of object used like a spreadsheet\n",
    "def get_stock_df_from_csv(ticker):\n",
    "    try:\n",
    "        df = pd.read_csv(PATH + ticker + \".csv\", index_col=0)\n",
    "    except FileNotFoundError:\n",
    "        print(\"File doesn't exist\")\n",
    "    else:\n",
    "        return df\n"
   ]
  },
  {
   "cell_type": "markdown",
   "metadata": {},
   "source": [
    "# Get all stocks downloaded in list"
   ]
  },
  {
   "cell_type": "code",
   "execution_count": 4,
   "metadata": {},
   "outputs": [
    {
     "data": {
      "text/plain": [
       "10"
      ]
     },
     "execution_count": 4,
     "metadata": {},
     "output_type": "execute_result"
    }
   ],
   "source": [
    "files = [x for x in listdir(PATH) if isfile(join(PATH, x))]\n",
    "tickers = [os.path.splitext(x)[0] for x in files]\n",
    "\n",
    "tickers.sort()  \n",
    "len(tickers)"
   ]
  },
  {
   "cell_type": "markdown",
   "metadata": {},
   "source": [
    "# Add daily returns"
   ]
  },
  {
   "cell_type": "code",
   "execution_count": 5,
   "metadata": {},
   "outputs": [],
   "source": [
    "def add_daily_return_to_df(df: pd.DataFrame):\n",
    "    df[\"daily_return\"] = (df[\"Close\"] / df[\"Close\"].shift(1)) - 1\n",
    "    return df"
   ]
  },
  {
   "cell_type": "markdown",
   "metadata": {},
   "source": [
    "# Add Cumulative returns"
   ]
  },
  {
   "cell_type": "code",
   "execution_count": 6,
   "metadata": {},
   "outputs": [],
   "source": [
    "def add_cum_return_to_df(df:pd.DataFrame):\n",
    "    df[\"cum_return\"] = (1 + df[\"daily_return\"]).cumprod()\n",
    "    return df"
   ]
  },
  {
   "cell_type": "markdown",
   "metadata": {},
   "source": [
    "# Add Bollinger Bands\n",
    "Bollinger Bands plot 2 lines using a moving average and the standard deviation defines how far apart the lines are. They also are used to define if prices are too high or low. When bands tighten it is believed a sharp price move in some direction. Prices tend to bounce off of the bands which provides potential market actions.\n",
    "\n",
    "A strong trend should be noted if the price moves outside the band. If prices go over the resistance line it is in overbought territory and if it breaks through support it is a sign of an oversold position."
   ]
  },
  {
   "cell_type": "code",
   "execution_count": 7,
   "metadata": {},
   "outputs": [],
   "source": [
    "def add_bollinger_bands(df: pd.DataFrame):\n",
    "    # the value 1.96 is the value for which P(X<1.96) = 0.975 and is commonly used\n",
    "    # to evaluate confidence intervals\n",
    "\n",
    "    n_days = 30  # window in days\n",
    "    window = df[\"Close\"].rolling(window=n_days)\n",
    "\n",
    "    df[\"middle_band\"] =window.mean()\n",
    "    df[\"upper_band\"] = df[\"middle_band\"] + 1.96 * window.std()\n",
    "    df[\"lower_band\"] = df[\"middle_band\"] - 1.96 * window.std()\n",
    "    return df\n"
   ]
  },
  {
   "cell_type": "markdown",
   "metadata": {},
   "source": [
    "# Add Ichimoku Data to Dataframe\n",
    "The Ichimoku (One Look) is considered an all in one indicator. It provides information on momentum, support and resistance. It is made up of 5 lines. If you are a short term trader you create 1 minute or 6 hours. Long term traders focus on day or weekly data.\n",
    "\n",
    "- Conversion Line (Tenkan-sen): Represents support, resistance and reversals. Used to measure short term trends.\n",
    "- Baseline (Kijun-sen): Represents support, resistance and confirms trend changes. Allows you to evaluate the strength of medium term trends. Called the baseline because it lags the price.\n",
    "- Leading Span A (Senkou A): Used to identify future areas of support and resistance.\n",
    "- Leading Span B (Senkou B): Other line used to identify future support and resistance.\n",
    "- Lagging Span (Chikou): Shows possible support and resistance. It is used to confirm signals obtained from other lines.\n",
    "- Cloud (Kumo): Space between Span A and B. Represents the divergence in price evolution.\n",
    "\n",
    "Formulas\n",
    "\n",
    "- Conversion Line = (Highest Value in period + Lowest value in period)/2 (9 Sessions)\n",
    "- Base Line = (Highest Value in period + Lowest value in period)/2 (26 Sessions)\n",
    "- Leading Span A = (Conversion Value + Base Value)/2 (26 Sessions)\n",
    "- Leading Span B = (Conversion Value + Base Value)/2 (52 Sessions)\n",
    "- Lagging Span = Price shifted back 26 periods"
   ]
  },
  {
   "cell_type": "code",
   "execution_count": 8,
   "metadata": {},
   "outputs": [],
   "source": [
    "def add_ichimoku(df: pd.DataFrame):\n",
    "    # Conversion Line = (Highest Value in period + Lowest value in period)/2 (9 Sessions)\n",
    "    hi_val = df[\"High\"].rolling(window=9).max()\n",
    "    lo_val = df[\"Low\"].rolling(window=9).min()\n",
    "    df[\"Conversion\"] = (hi_val+lo_val)/2\n",
    "\n",
    "    # Base Line = (Highest Value in period + Lowest value in period)/2 (26 Sessions)\n",
    "    hi_val2 = df[\"High\"].rolling(window=26).max()\n",
    "    lo_val2 = df[\"Low\"].rolling(window=26).min()\n",
    "    df[\"Baseline\"] = (hi_val2+lo_val2)/2\n",
    "\n",
    "    # Leading Span A = (Conversion Value + Base Value)/2 (26 Sessions)\n",
    "    df[\"SpanA\"] = ((df[\"Conversion\"]+df[\"Baseline\"])/2).shift(26)\n",
    "    \n",
    "    # Leading Span B = (Conversion Value + Base Value)/2 (52 Sessions)\n",
    "    hi_val3 = df[\"High\"].rolling(window=52).max()\n",
    "    lo_val3 = df[\"Low\"].rolling(window=52).min()\n",
    "    df[\"SpanB\"] = ((hi_val3+lo_val3)/2).shift(26)\n",
    "\n",
    "    # Lagging Span = Price shifted back 26 periods\n",
    "    df[\"Lagging\"] = df[\"Close\"].shift(-26)\n",
    "    \n",
    "    return df"
   ]
  },
  {
   "cell_type": "markdown",
   "metadata": {},
   "source": [
    "# Add Daily, Cumulative Bollinger Bands & Ichimoku to Dataframes"
   ]
  },
  {
   "cell_type": "code",
   "execution_count": 9,
   "metadata": {},
   "outputs": [
    {
     "name": "stdout",
     "output_type": "stream",
     "text": [
      "Working on : ADA-USD\n",
      "Working on : ATOM-USD\n",
      "Working on : BTC-USD\n",
      "Working on : ETH-USD\n",
      "Working on : ICX-USD\n",
      "Working on : NEO-USD\n",
      "Working on : SOL-USD\n",
      "Working on : VET-USD\n",
      "Working on : XTZ-USD\n",
      "Working on : ZIL-USD\n",
      "Finished\n"
     ]
    }
   ],
   "source": [
    "for x in tickers:\n",
    "    try:\n",
    "        print(\"Working on :\", x)\n",
    "        new_df = get_stock_df_from_csv(x)\n",
    "        new_df = add_daily_return_to_df(new_df)\n",
    "        new_df = add_cum_return_to_df(new_df)\n",
    "        new_df = add_bollinger_bands(new_df)\n",
    "        new_df = add_ichimoku(new_df)\n",
    "        new_df.to_csv(PATH + x + \".csv\")\n",
    "    except Exception as ex:\n",
    "        print(ex)\n",
    "\n",
    "print(\"Finished\")"
   ]
  }
 ],
 "metadata": {
  "interpreter": {
   "hash": "9f81c23c6c9d48de9900adc03f5a949bfa4037d292927a7532fcd590c1c05e9b"
  },
  "kernelspec": {
   "display_name": "Python 3.10.0 ('.venv': venv)",
   "language": "python",
   "name": "python3"
  },
  "language_info": {
   "codemirror_mode": {
    "name": "ipython",
    "version": 3
   },
   "file_extension": ".py",
   "mimetype": "text/x-python",
   "name": "python",
   "nbconvert_exporter": "python",
   "pygments_lexer": "ipython3",
   "version": "3.10.5"
  },
  "orig_nbformat": 4
 },
 "nbformat": 4,
 "nbformat_minor": 2
}
