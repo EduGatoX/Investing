{
 "cells": [
  {
   "cell_type": "markdown",
   "metadata": {},
   "source": [
    "# Imports\n"
   ]
  },
  {
   "cell_type": "code",
   "execution_count": null,
   "metadata": {},
   "outputs": [],
   "source": [
    "# Provides ways to work with large multidimensional arrays\n",
    "import numpy as np\n",
    "\n",
    "# Allows for further data manipulation and analysis\n",
    "import pandas as pd\n",
    "import matplotlib.pyplot as plt  # Plotting\n",
    "import matplotlib.dates as mdates  # Styling dates\n",
    "\n",
    "import datetime as dt\n",
    "\n",
    "import time\n",
    "\n",
    "import yfinance as yf\n",
    "\n",
    "# Used for file handling like deleting files\n",
    "# and get data from a directory\n",
    "import os\n",
    "from os import listdir\n",
    "from os.path import isfile, join\n",
    "\n",
    "import cufflinks as cf\n",
    "import plotly.express as px\n",
    "import plotly.graph_objects as go\n",
    "\n",
    "# Make plotly work in your Jupyter Notebook\n",
    "from plotly.offline import download_plotlyjs, init_notebook_mode, plot, iplot\n",
    "\n",
    "init_notebook_mode(connected=True)\n",
    "# Use plotly locally\n",
    "cf.go_offline()\n",
    "\n",
    "from plotly.subplots import make_subplots\n",
    "\n",
    "import warnings\n",
    "\n",
    "warnings.simplefilter(\"ignore\")\n"
   ]
  },
  {
   "cell_type": "markdown",
   "metadata": {},
   "source": [
    "# Constants\n"
   ]
  },
  {
   "cell_type": "code",
   "execution_count": null,
   "metadata": {},
   "outputs": [],
   "source": [
    "PATH = \"C:\\\\Users\\\\Eduardo Nuñez\\\\OneDrive\\\\Programming\\\\Python\\\\Derek Banas\\\\Investing\\\\Currencies\\\\Currency Data\\\\\"\n",
    "\n",
    "# Start end date defaults\n",
    "S_DATE = \"2017-02-01\"\n",
    "E_DATE = \"2022-12-06\"\n",
    "S_DATE_DT = pd.to_datetime(S_DATE)\n",
    "E_DATE_DT = pd.to_datetime(E_DATE)\n"
   ]
  },
  {
   "cell_type": "markdown",
   "metadata": {},
   "source": [
    "# Get Dataframe from CSV\n"
   ]
  },
  {
   "cell_type": "code",
   "execution_count": null,
   "metadata": {},
   "outputs": [],
   "source": [
    "# A dataframe is a pandas type of object used like a spreadsheet\n",
    "def get_stock_df_from_csv(ticker):\n",
    "    try:\n",
    "        df = pd.read_csv(PATH + ticker + \".csv\", index_col=0)\n",
    "    except FileNotFoundError:\n",
    "        print(\"File doesn't exist\")\n",
    "    else:\n",
    "        return df\n"
   ]
  },
  {
   "cell_type": "markdown",
   "metadata": {},
   "source": [
    "# Plot Bollinger Bands\n"
   ]
  },
  {
   "cell_type": "code",
   "execution_count": null,
   "metadata": {},
   "outputs": [],
   "source": [
    "def plot_with_boll_bands(df: pd.DataFrame, ticker):\n",
    "    fig = go.Figure()\n",
    "\n",
    "    candle = go.Candlestick(\n",
    "        x=df.index, open=df[\"Open\"], high=df[\"High\"], low=df[\"Low\"], close=df[\"Close\"], name=\"Candlestick\"\n",
    "    )\n",
    "\n",
    "    upper_line = go.Scatter(\n",
    "        x=df.index, y=df[\"upper_band\"], line=dict(color=\"rgba(250,0,0,0.75)\", width=1), name=\"Upper Band\"\n",
    "    )\n",
    "\n",
    "    mid_line = go.Scatter(\n",
    "        x=df.index, y=df[\"middle_band\"], line=dict(color=\"rgba(0,0,250,0.75)\", width=0.7), name=\"Middle Band\"\n",
    "    )\n",
    "\n",
    "    lower_line = go.Scatter(\n",
    "        x=df.index, y=df[\"lower_band\"], line=dict(color=\"rgba(0,250,0,0.75)\", width=1), name=\"Lower Band\"\n",
    "    )\n",
    "\n",
    "    fig.add_trace(candle)\n",
    "    fig.add_trace(upper_line)\n",
    "    fig.add_trace(mid_line)\n",
    "    fig.add_trace(lower_line)\n",
    "\n",
    "    fig.update_xaxes(title=\"Date\", rangeslider_visible=True)\n",
    "    fig.update_yaxes(title=\"Price\")\n",
    "\n",
    "    fig.update_layout(title=ticker + \" Bollinger Bands\", height=800, width=1200, showlegend=True)\n",
    "    fig.update_layout(\n",
    "    xaxis=dict(\n",
    "        rangeselector=dict(\n",
    "            buttons=list(\n",
    "                [\n",
    "                    dict(count=10, label=\"10D\", step=\"day\", stepmode=\"backward\"),\n",
    "                    dict(count=1, label=\"1M\", step=\"month\", stepmode=\"backward\"),\n",
    "                    dict(count=6, label=\"6M\", step=\"month\", stepmode=\"todate\"),\n",
    "                    dict(count=1, label=\"YTD\", step=\"year\", stepmode=\"todate\"),\n",
    "                    dict(count=1, label=\"1Y\", step=\"year\", stepmode=\"backward\"),\n",
    "                    dict(label=\"All\", step=\"all\"),\n",
    "                ]\n",
    "            )\n",
    "        ),\n",
    "        rangeslider=dict(visible=True),\n",
    "        type=\"date\",\n",
    "    )\n",
    ")\n",
    "    fig.show()\n"
   ]
  },
  {
   "cell_type": "markdown",
   "metadata": {},
   "source": [
    "# Plot Ichimoku\n"
   ]
  },
  {
   "cell_type": "code",
   "execution_count": null,
   "metadata": {},
   "outputs": [],
   "source": [
    "def get_fill_color(label):\n",
    "    if label >= 1:\n",
    "        return \"rgba(0,250,0,0.4)\"  # Returns green\n",
    "    else:\n",
    "        return \"rgba(250,0,0,0.4)\"  # Returns red\n"
   ]
  },
  {
   "cell_type": "code",
   "execution_count": null,
   "metadata": {},
   "outputs": [],
   "source": [
    "def get_ichimoku(df: pd.DataFrame, ticker):\n",
    "    # fig = go.Figure()\n",
    "\n",
    "    candle = go.Candlestick(\n",
    "        x=df.index, open=df[\"Open\"], high=df[\"High\"], low=df[\"Low\"], close=df[\"Close\"], name=\"Candlestick\"\n",
    "    )\n",
    "\n",
    "    df1 = df.copy()\n",
    "    fig = go.Figure()\n",
    "    # in this case the fill should be green (value = 1 in get_fill_color)\n",
    "    df[\"label\"] = np.where(df[\"SpanA\"] > df[\"SpanB\"], 1, 0)\n",
    "    df[\"group\"] = df[\"label\"].ne(df[\"label\"].shift()).cumsum()\n",
    "    df = df.groupby(\"group\")\n",
    "\n",
    "    dfs = []\n",
    "    for name, data in df:\n",
    "        dfs.append(data)\n",
    "\n",
    "    for df in dfs:\n",
    "        fig.add_traces(go.Scatter(x=df.index, y=df.SpanA, line=dict(color=\"rgba(0,0,0,0)\")))\n",
    "        fig.add_traces(\n",
    "            go.Scatter(\n",
    "                x=df.index,\n",
    "                y=df.SpanB,\n",
    "                line=dict(color=\"rgba(0,0,0,0)\"),\n",
    "                fill=\"tonexty\",\n",
    "                fillcolor=get_fill_color(df[\"label\"].iloc[0]),\n",
    "            )\n",
    "        )\n",
    "\n",
    "    baseline = go.Scatter(x=df1.index, y=df1[\"Baseline\"], line=dict(color=\"pink\", width=2), name=\"Baseline\")\n",
    "    conversion = go.Scatter(x=df1.index, y=df1[\"Conversion\"], line=dict(color=\"black\", width=1), name=\"Conversion\")\n",
    "    lagging = go.Scatter(x=df1.index, y=df1[\"Lagging\"], line=dict(color=\"purple\", width=2), name=\"Lagging\")\n",
    "    span_a = go.Scatter(x=df1.index, y=df1[\"SpanA\"], line=dict(color=\"green\", width=2, dash=\"dot\"), name=\"Span A\")\n",
    "    span_b = go.Scatter(x=df1.index, y=df1[\"SpanB\"], line=dict(color=\"red\", width=1, dash=\"dot\"), name=\"Span B\")\n",
    "\n",
    "    fig.add_trace(candle)\n",
    "    fig.add_trace(baseline)\n",
    "    fig.add_trace(conversion)\n",
    "    fig.add_trace(lagging)\n",
    "    fig.add_trace(span_a)\n",
    "    fig.add_trace(span_b)\n",
    "\n",
    "    fig.update_layout(title=ticker + \" Ichimoku\",height=800, width=1200, showlegend=True)\n",
    "    fig.update_layout(\n",
    "    xaxis=dict(\n",
    "        rangeselector=dict(\n",
    "            buttons=list(\n",
    "                [\n",
    "                    dict(count=10, label=\"10D\", step=\"day\", stepmode=\"backward\"),\n",
    "                    dict(count=1, label=\"1M\", step=\"month\", stepmode=\"backward\"),\n",
    "                    dict(count=6, label=\"6M\", step=\"month\", stepmode=\"todate\"),\n",
    "                    dict(count=1, label=\"YTD\", step=\"year\", stepmode=\"todate\"),\n",
    "                    dict(count=1, label=\"1Y\", step=\"year\", stepmode=\"backward\"),\n",
    "                    dict(label=\"All\", step=\"all\"),\n",
    "                ]\n",
    "            )\n",
    "        ),\n",
    "        rangeslider=dict(visible=True),\n",
    "        type=\"date\",\n",
    "    )\n",
    ")\n",
    "\n",
    "    fig.show()\n"
   ]
  },
  {
   "cell_type": "markdown",
   "metadata": {},
   "source": [
    "# Plots\n"
   ]
  },
  {
   "cell_type": "code",
   "execution_count": null,
   "metadata": {},
   "outputs": [],
   "source": [
    "# tickers = [\"EURUSD=X\", \"GBPUSD=X\", \"AUDUSD=X\", \"CHFJPY=X\", \"EURJPY=X\", \"NZDUSD=X\", \"CHF=X\", \"JPY=X\", \"CAD=X\"]\n",
    "tickers = [\"CLP=X\"]\n",
    "for ticker in tickers:\n",
    "    current_df = get_stock_df_from_csv(ticker)\n",
    "    plot_with_boll_bands(current_df, ticker)\n",
    "    get_ichimoku(current_df, ticker)\n"
   ]
  }
 ],
 "metadata": {
  "kernelspec": {
   "display_name": "Python 3.10.5 ('.venv': venv)",
   "language": "python",
   "name": "python3"
  },
  "language_info": {
   "codemirror_mode": {
    "name": "ipython",
    "version": 3
   },
   "file_extension": ".py",
   "mimetype": "text/x-python",
   "name": "python",
   "nbconvert_exporter": "python",
   "pygments_lexer": "ipython3",
   "version": "3.10.5"
  },
  "orig_nbformat": 4,
  "vscode": {
   "interpreter": {
    "hash": "9f81c23c6c9d48de9900adc03f5a949bfa4037d292927a7532fcd590c1c05e9b"
   }
  }
 },
 "nbformat": 4,
 "nbformat_minor": 2
}
