{
 "cells": [
  {
   "cell_type": "markdown",
   "metadata": {},
   "source": [
    "# Imports"
   ]
  },
  {
   "cell_type": "code",
   "execution_count": 7,
   "metadata": {},
   "outputs": [
    {
     "data": {
      "text/html": [
       "        <script type=\"text/javascript\">\n",
       "        window.PlotlyConfig = {MathJaxConfig: 'local'};\n",
       "        if (window.MathJax) {MathJax.Hub.Config({SVG: {font: \"STIX-Web\"}});}\n",
       "        if (typeof require !== 'undefined') {\n",
       "        require.undef(\"plotly\");\n",
       "        requirejs.config({\n",
       "            paths: {\n",
       "                'plotly': ['https://cdn.plot.ly/plotly-2.9.0.min']\n",
       "            }\n",
       "        });\n",
       "        require(['plotly'], function(Plotly) {\n",
       "            window._Plotly = Plotly;\n",
       "        });\n",
       "        }\n",
       "        </script>\n",
       "        "
      ]
     },
     "metadata": {},
     "output_type": "display_data"
    },
    {
     "data": {
      "text/html": [
       "        <script type=\"text/javascript\">\n",
       "        window.PlotlyConfig = {MathJaxConfig: 'local'};\n",
       "        if (window.MathJax) {MathJax.Hub.Config({SVG: {font: \"STIX-Web\"}});}\n",
       "        if (typeof require !== 'undefined') {\n",
       "        require.undef(\"plotly\");\n",
       "        requirejs.config({\n",
       "            paths: {\n",
       "                'plotly': ['https://cdn.plot.ly/plotly-2.9.0.min']\n",
       "            }\n",
       "        });\n",
       "        require(['plotly'], function(Plotly) {\n",
       "            window._Plotly = Plotly;\n",
       "        });\n",
       "        }\n",
       "        </script>\n",
       "        "
      ]
     },
     "metadata": {},
     "output_type": "display_data"
    }
   ],
   "source": [
    "# Provides ways to work with large multidimensional arrays\n",
    "import numpy as np\n",
    "\n",
    "# Allows for further data manipulation and analysis\n",
    "import pandas as pd\n",
    "import matplotlib.pyplot as plt  # Plotting\n",
    "import matplotlib.dates as mdates  # Styling dates\n",
    "\n",
    "import datetime as dt\n",
    "\n",
    "import time\n",
    "\n",
    "import yfinance as yf\n",
    "\n",
    "# Used for file handling like deleting files\n",
    "# and get data from a directory\n",
    "import os\n",
    "from os import listdir\n",
    "from os.path import isfile, join\n",
    "\n",
    "import cufflinks as cf\n",
    "import plotly.express as px\n",
    "import plotly.graph_objects as go\n",
    "\n",
    "# Make plotly work in your Jupyter Notebook\n",
    "from plotly.offline import download_plotlyjs, init_notebook_mode, plot, iplot\n",
    "\n",
    "init_notebook_mode(connected=True)\n",
    "# Use plotly locally\n",
    "cf.go_offline()\n",
    "\n",
    "from plotly.subplots import make_subplots\n",
    "\n",
    "import warnings\n",
    "\n",
    "warnings.simplefilter(\"ignore\")"
   ]
  },
  {
   "cell_type": "markdown",
   "metadata": {},
   "source": [
    "# Constants\n"
   ]
  },
  {
   "cell_type": "code",
   "execution_count": 8,
   "metadata": {},
   "outputs": [],
   "source": [
    "PATH = \"C:\\\\Users\\\\Eduardo Nuñez\\\\OneDrive\\\\Python\\\\Derek Banas\\\\Investing\\\\Commodities\\\\\"\n",
    "\n",
    "S_DATE = \"2017-02-01\"\n",
    "E_DATE = \"2022-12-06\"\n",
    "S_DATE_DT = pd.to_datetime(S_DATE)\n",
    "E_DATE_DT = pd.to_datetime(E_DATE)\n"
   ]
  },
  {
   "cell_type": "markdown",
   "metadata": {},
   "source": [
    "# Get column data from CSV\n"
   ]
  },
  {
   "cell_type": "code",
   "execution_count": 9,
   "metadata": {},
   "outputs": [],
   "source": [
    "def get_column_from_csv(file, col_name):\n",
    "    # try to get the file and if it doesn't exist issue a warning\n",
    "    try:\n",
    "        df = pd.read_csv(file)\n",
    "    except FileNotFoundError:\n",
    "        print(\"File doesn't exists\")\n",
    "    else:\n",
    "        return df[col_name]"
   ]
  },
  {
   "cell_type": "markdown",
   "metadata": {},
   "source": [
    "# Get Stock Tickers"
   ]
  },
  {
   "cell_type": "code",
   "execution_count": 10,
   "metadata": {},
   "outputs": [
    {
     "name": "stdout",
     "output_type": "stream",
     "text": [
      "9\n"
     ]
    }
   ],
   "source": [
    "tickers = get_column_from_csv(PATH + \"Commodity_Ticker.csv\", \"Ticker\")\n",
    "n_tickers = len(tickers)\n",
    "print(n_tickers)\n"
   ]
  },
  {
   "cell_type": "markdown",
   "metadata": {},
   "source": [
    "# Save Stock Data to CSV"
   ]
  },
  {
   "cell_type": "markdown",
   "metadata": {},
   "source": [
    "I think this can be done in a different way.\n",
    "1. save the data of stocks in an array (until a certain limit 500 MB for example)\n",
    "2. then create the files by using cython or a map operation but avoid iterating"
   ]
  },
  {
   "cell_type": "code",
   "execution_count": 11,
   "metadata": {},
   "outputs": [],
   "source": [
    "# Function that gets a dataframe by providing a ticker and starting date\n",
    "def save_to_csv_from_yahoo(folder, ticker):\n",
    "    stock = yf.Ticker(ticker)\n",
    "\n",
    "    try:\n",
    "        print(\"Get Data for : \", ticker)\n",
    "        # Get historical closinf price data\n",
    "        df = stock.history(period=\"5y\")\n",
    "\n",
    "        # Wait 2 seconds - not necessary\n",
    "        #time.sleep(2)\n",
    "\n",
    "        # Remove the periord for saving the file name\n",
    "        # Save data to a csv file\n",
    "        # File to save to\n",
    "        the_file = folder + ticker.replace(\".\",\"_\") + \".csv\"\n",
    "        print(the_file, \" Saved\")\n",
    "        df.to_csv(the_file)\n",
    "    except Exception as ex:\n",
    "        print(\"Couldn't get the data for : \", ticker)"
   ]
  },
  {
   "cell_type": "markdown",
   "metadata": {},
   "source": [
    "# Download all stocks"
   ]
  },
  {
   "cell_type": "code",
   "execution_count": 12,
   "metadata": {},
   "outputs": [
    {
     "name": "stdout",
     "output_type": "stream",
     "text": [
      "Get Data for :  CL=F\n",
      "C:\\Users\\Eduardo Nuñez\\OneDrive\\Python\\Derek Banas\\Investing\\Commodities\\Commodity Data\\CL=F.csv  Saved\n",
      "Get Data for :  NG=F\n",
      "C:\\Users\\Eduardo Nuñez\\OneDrive\\Python\\Derek Banas\\Investing\\Commodities\\Commodity Data\\NG=F.csv  Saved\n",
      "Get Data for :  GC=F\n",
      "C:\\Users\\Eduardo Nuñez\\OneDrive\\Python\\Derek Banas\\Investing\\Commodities\\Commodity Data\\GC=F.csv  Saved\n",
      "Get Data for :  BZ=F\n",
      "C:\\Users\\Eduardo Nuñez\\OneDrive\\Python\\Derek Banas\\Investing\\Commodities\\Commodity Data\\BZ=F.csv  Saved\n",
      "Get Data for :  HG=F\n",
      "C:\\Users\\Eduardo Nuñez\\OneDrive\\Python\\Derek Banas\\Investing\\Commodities\\Commodity Data\\HG=F.csv  Saved\n",
      "Get Data for :  SI=F\n",
      "C:\\Users\\Eduardo Nuñez\\OneDrive\\Python\\Derek Banas\\Investing\\Commodities\\Commodity Data\\SI=F.csv  Saved\n",
      "Get Data for :  ZW=F\n",
      "C:\\Users\\Eduardo Nuñez\\OneDrive\\Python\\Derek Banas\\Investing\\Commodities\\Commodity Data\\ZW=F.csv  Saved\n",
      "Get Data for :  ZR=F\n",
      "C:\\Users\\Eduardo Nuñez\\OneDrive\\Python\\Derek Banas\\Investing\\Commodities\\Commodity Data\\ZR=F.csv  Saved\n",
      "Get Data for :  ZC=F\n",
      "C:\\Users\\Eduardo Nuñez\\OneDrive\\Python\\Derek Banas\\Investing\\Commodities\\Commodity Data\\ZC=F.csv  Saved\n",
      "Finished\n"
     ]
    }
   ],
   "source": [
    "for x in range(0, n_tickers):\n",
    "    save_to_csv_from_yahoo(PATH + \"Commodity Data\\\\\", tickers[x])\n",
    "\n",
    "print(\"Finished\")\n"
   ]
  }
 ],
 "metadata": {
  "interpreter": {
   "hash": "13c0826753c471c30f834015ee35b4655e0cb66b1942206132d750a0039e3849"
  },
  "kernelspec": {
   "display_name": "Python 3.10.0 ('.venv': venv)",
   "language": "python",
   "name": "python3"
  },
  "language_info": {
   "codemirror_mode": {
    "name": "ipython",
    "version": 3
   },
   "file_extension": ".py",
   "mimetype": "text/x-python",
   "name": "python",
   "nbconvert_exporter": "python",
   "pygments_lexer": "ipython3",
   "version": "3.10.0"
  },
  "orig_nbformat": 4
 },
 "nbformat": 4,
 "nbformat_minor": 2
}
