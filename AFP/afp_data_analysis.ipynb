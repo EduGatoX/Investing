{
 "cells": [
  {
   "cell_type": "markdown",
   "metadata": {},
   "source": [
    "## Imports\n"
   ]
  },
  {
   "cell_type": "code",
   "execution_count": 25,
   "metadata": {},
   "outputs": [
    {
     "data": {
      "text/html": [
       "        <script type=\"text/javascript\">\n",
       "        window.PlotlyConfig = {MathJaxConfig: 'local'};\n",
       "        if (window.MathJax) {MathJax.Hub.Config({SVG: {font: \"STIX-Web\"}});}\n",
       "        if (typeof require !== 'undefined') {\n",
       "        require.undef(\"plotly\");\n",
       "        requirejs.config({\n",
       "            paths: {\n",
       "                'plotly': ['https://cdn.plot.ly/plotly-2.9.0.min']\n",
       "            }\n",
       "        });\n",
       "        require(['plotly'], function(Plotly) {\n",
       "            window._Plotly = Plotly;\n",
       "        });\n",
       "        }\n",
       "        </script>\n",
       "        "
      ]
     },
     "metadata": {},
     "output_type": "display_data"
    },
    {
     "data": {
      "text/html": [
       "        <script type=\"text/javascript\">\n",
       "        window.PlotlyConfig = {MathJaxConfig: 'local'};\n",
       "        if (window.MathJax) {MathJax.Hub.Config({SVG: {font: \"STIX-Web\"}});}\n",
       "        if (typeof require !== 'undefined') {\n",
       "        require.undef(\"plotly\");\n",
       "        requirejs.config({\n",
       "            paths: {\n",
       "                'plotly': ['https://cdn.plot.ly/plotly-2.9.0.min']\n",
       "            }\n",
       "        });\n",
       "        require(['plotly'], function(Plotly) {\n",
       "            window._Plotly = Plotly;\n",
       "        });\n",
       "        }\n",
       "        </script>\n",
       "        "
      ]
     },
     "metadata": {},
     "output_type": "display_data"
    }
   ],
   "source": [
    "# Provides ways to work with large multidimensional arrays\n",
    "import numpy as np\n",
    "\n",
    "# Allows for further data manipulation and analysis\n",
    "import pandas as pd\n",
    "import matplotlib.pyplot as plt  # Plotting\n",
    "import matplotlib.dates as mdates  # Styling dates\n",
    "\n",
    "import datetime as dt\n",
    "\n",
    "import time\n",
    "\n",
    "import yfinance as yf\n",
    "\n",
    "# Used for file handling like deleting files\n",
    "# and get data from a directory\n",
    "import os\n",
    "from os import listdir\n",
    "from os.path import isfile, join\n",
    "\n",
    "import cufflinks as cf\n",
    "import plotly.express as px\n",
    "import plotly.graph_objects as go\n",
    "\n",
    "# Make plotly work in your Jupyter Notebook\n",
    "from plotly.offline import download_plotlyjs, init_notebook_mode, plot, iplot\n",
    "\n",
    "init_notebook_mode(connected=True)\n",
    "# Use plotly locally\n",
    "cf.go_offline()\n",
    "\n",
    "from plotly.subplots import make_subplots\n",
    "\n",
    "import warnings\n",
    "\n",
    "warnings.simplefilter(\"ignore\")\n"
   ]
  },
  {
   "cell_type": "markdown",
   "metadata": {},
   "source": [
    "## Constants\n"
   ]
  },
  {
   "cell_type": "code",
   "execution_count": 26,
   "metadata": {},
   "outputs": [],
   "source": [
    "# Location of files\n",
    "PATH = \"C:\\\\Users\\\\Eduardo Nuñez\\\\OneDrive\\\\Programming\\\\Python\\\\Derek Banas\\\\Investing\\\\AFP\\\\\"\n",
    "FILE_PATH = PATH + \"DocumentoValorCuota.xlsx\"\n",
    "DATA_PATH = PATH + \"AFP Data\\\\\"\n",
    "\n",
    "# Fund names\n",
    "FUND_NAMES = [\"A\", \"B\", \"C\", \"D\", \"E\"]\n",
    "\n",
    "# Bollinger Bands\n",
    "# Number of days to evaluate the moving average of the bollinger bands\n",
    "n_days = 20\n"
   ]
  },
  {
   "cell_type": "markdown",
   "metadata": {},
   "source": [
    "## Import Data from file\n"
   ]
  },
  {
   "cell_type": "markdown",
   "metadata": {},
   "source": [
    "### Read Data from Excel file\n"
   ]
  },
  {
   "cell_type": "code",
   "execution_count": 27,
   "metadata": {},
   "outputs": [],
   "source": [
    "def get_df_from_excel(path):\n",
    "    try:\n",
    "        df = pd.read_excel(path, index_col=0)\n",
    "    except FileNotFoundError as e:\n",
    "        print(e)\n",
    "    else:\n",
    "        return df\n"
   ]
  },
  {
   "cell_type": "markdown",
   "metadata": {},
   "source": [
    "### Create a dataframe for each Fund\n"
   ]
  },
  {
   "cell_type": "code",
   "execution_count": 28,
   "metadata": {},
   "outputs": [],
   "source": [
    "def get_fund_df(df: pd.DataFrame, fund_name):\n",
    "    \"\"\"Return a sub-dataframe of the form (date,fund_x)\"\"\"\n",
    "    return df.filter([\"Día\", fund_name], axis=1)\n"
   ]
  },
  {
   "cell_type": "code",
   "execution_count": 29,
   "metadata": {},
   "outputs": [],
   "source": [
    "def get_fund_df_list(df: pd.DataFrame):\n",
    "    \"\"\"Return a list of dataframes of the form (index,column_x)\"\"\"\n",
    "    funds_df_list = []\n",
    "    for col in df.columns:\n",
    "        funds_df_list.append(get_fund_df(df, col))\n",
    "    return funds_df_list\n"
   ]
  },
  {
   "cell_type": "markdown",
   "metadata": {},
   "source": [
    "## Add Statistics\n"
   ]
  },
  {
   "cell_type": "markdown",
   "metadata": {},
   "source": [
    "### Add returns\n"
   ]
  },
  {
   "cell_type": "code",
   "execution_count": 30,
   "metadata": {},
   "outputs": [],
   "source": [
    "def add_daily_return_to_df(df: pd.DataFrame, col):\n",
    "    \"\"\"Return df with a new column 'daily_return'\"\"\"\n",
    "    df[\"daily_return\"] = (df[col] / df[col].shift(1)) - 1\n",
    "    return df\n"
   ]
  },
  {
   "cell_type": "code",
   "execution_count": 31,
   "metadata": {},
   "outputs": [],
   "source": [
    "def add_cum_return_to_df(df: pd.DataFrame):\n",
    "    \"\"\"Return df with a new column 'cum_return'\"\"\"\n",
    "    df[\"cum_return\"] = (1 + df[\"daily_return\"]).cumprod()\n",
    "    return df\n"
   ]
  },
  {
   "cell_type": "markdown",
   "metadata": {},
   "source": [
    "### Add Bollinger Bands\n",
    "\n",
    "Bollinger Bands plot 2 lines using a moving average and the standard deviation defines how far apart the lines are. They also are used to define if prices are too high or low. When bands tighten it is believed a sharp price move in some direction. Prices tend to bounce off of the bands which provides potential market actions.\n",
    "\n",
    "A strong trend should be noted if the price moves outside the band. If prices go over the resistance line it is in overbought territory and if it breaks through support it is a sign of an oversold position.\n"
   ]
  },
  {
   "cell_type": "code",
   "execution_count": 32,
   "metadata": {},
   "outputs": [],
   "source": [
    "def add_bollinger_bands(df: pd.DataFrame, col, n_days):\n",
    "    # the value 1.96 is the value for which P(X<1.96) = 0.975 and is commonly used\n",
    "    # to evaluate confidence intervals\n",
    "    window = df[col].rolling(window=n_days)\n",
    "\n",
    "    df[\"middle_band\"] = window.mean()\n",
    "    df[\"upper_band\"] = df[\"middle_band\"] + 1.96 * window.std()\n",
    "    df[\"lower_band\"] = df[\"middle_band\"] - 1.96 * window.std()\n",
    "    return df\n"
   ]
  },
  {
   "cell_type": "markdown",
   "metadata": {},
   "source": [
    "### Add Ichimoku Data to Dataframe\n",
    "\n",
    "This ichimoku is adapted to the afp data which is just a single value per day\n"
   ]
  },
  {
   "cell_type": "code",
   "execution_count": 33,
   "metadata": {},
   "outputs": [],
   "source": [
    "def add_ichimoku(df: pd.DataFrame, col):\n",
    "    # Conversion Line = (Highest Value in period + Lowest value in period)/2 (9 Sessions)\n",
    "    hi_val = df[col].rolling(window=9).max()\n",
    "    lo_val = df[col].rolling(window=9).min()\n",
    "    df[\"Conversion\"] = (hi_val + lo_val) / 2\n",
    "\n",
    "    # Base Line = (Highest Value in period + Lowest value in period)/2 (26 Sessions)\n",
    "    hi_val2 = df[col].rolling(window=26).max()\n",
    "    lo_val2 = df[col].rolling(window=26).min()\n",
    "    df[\"Baseline\"] = (hi_val2 + lo_val2) / 2\n",
    "\n",
    "    # Leading Span A = (Conversion Value + Base Value)/2 (26 Sessions)\n",
    "    df[\"SpanA\"] = ((df[\"Conversion\"] + df[\"Baseline\"]) / 2).shift(26)\n",
    "\n",
    "    # Leading Span B = (Conversion Value + Base Value)/2 (52 Sessions)\n",
    "    hi_val3 = df[col].rolling(window=52).max()\n",
    "    lo_val3 = df[col].rolling(window=52).min()\n",
    "    df[\"SpanB\"] = ((hi_val3 + lo_val3) / 2).shift(26)\n",
    "\n",
    "    # Lagging Span = Price shifted back 26 periods\n",
    "    df[\"Lagging\"] = df[col].shift(-26)\n",
    "\n",
    "    return df\n"
   ]
  },
  {
   "cell_type": "markdown",
   "metadata": {},
   "source": [
    "### Adding MACD values\n"
   ]
  },
  {
   "cell_type": "code",
   "execution_count": 34,
   "metadata": {},
   "outputs": [],
   "source": [
    "# Calculating EMA\n",
    "def add_EMA(df: pd.DataFrame, col, n_periods=12):\n",
    "    sma = df[col].rolling(window=n_periods).mean()\n",
    "    mult = 2 / (13)\n",
    "    ema = sma\n",
    "    ema = (df[col] - ema.shift(1)) * mult + ema.shift(1)\n",
    "    df[f\"sma_{n_periods}\"] = sma\n",
    "    df[f\"ema_{n_periods}\"] = ema\n",
    "    return df\n"
   ]
  },
  {
   "cell_type": "code",
   "execution_count": 35,
   "metadata": {},
   "outputs": [],
   "source": [
    "# Calculating MACD\n",
    "def add_MACD(df: pd.DataFrame, col):\n",
    "    # Adding EMA 12 and 26\n",
    "    df = add_EMA(df, col, n_periods=12)\n",
    "    df = add_EMA(df, col, n_periods=26)\n",
    "    # Adding the MACD\n",
    "    df[\"MACD\"] = df[\"ema_12\"] - df[\"ema_26\"]\n",
    "    return df\n"
   ]
  },
  {
   "cell_type": "markdown",
   "metadata": {},
   "source": [
    "## Add Daily, Cumulative Bollinger Bands, Ichimoku and MACD to Dataframes\n"
   ]
  },
  {
   "cell_type": "code",
   "execution_count": 36,
   "metadata": {},
   "outputs": [
    {
     "name": "stdout",
     "output_type": "stream",
     "text": [
      "Finished\n"
     ]
    }
   ],
   "source": [
    "df = get_df_from_excel(FILE_PATH)\n",
    "df.sort_index(inplace=True)\n",
    "fund_df_list = get_fund_df_list(df)\n",
    "for fund_df in fund_df_list:\n",
    "    fund_name = fund_df.columns[0]\n",
    "    fund_df = add_daily_return_to_df(fund_df, fund_name)\n",
    "    fund_df = add_cum_return_to_df(fund_df)\n",
    "    fund_df = add_bollinger_bands(fund_df, fund_name, n_days)\n",
    "    fund_df = add_ichimoku(fund_df, fund_name)\n",
    "    fund_df = add_MACD(fund_df, fund_name)\n",
    "    fund_df.to_csv(DATA_PATH + fund_name + \".csv\")\n",
    "\n",
    "print(\"Finished\")\n"
   ]
  }
 ],
 "metadata": {
  "interpreter": {
   "hash": "9f81c23c6c9d48de9900adc03f5a949bfa4037d292927a7532fcd590c1c05e9b"
  },
  "kernelspec": {
   "display_name": "Python 3.10.0 ('.venv': venv)",
   "language": "python",
   "name": "python3"
  },
  "language_info": {
   "codemirror_mode": {
    "name": "ipython",
    "version": 3
   },
   "file_extension": ".py",
   "mimetype": "text/x-python",
   "name": "python",
   "nbconvert_exporter": "python",
   "pygments_lexer": "ipython3",
   "version": "3.10.5"
  },
  "orig_nbformat": 4
 },
 "nbformat": 4,
 "nbformat_minor": 2
}
